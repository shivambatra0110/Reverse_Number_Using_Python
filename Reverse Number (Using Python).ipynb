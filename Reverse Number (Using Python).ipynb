{
 "cells": [
  {
   "cell_type": "markdown",
   "id": "39b9b311",
   "metadata": {},
   "source": [
    "## To Reverse the Number\n",
    "There are two ways to do it\n",
    "1. The shortcut way \n",
    "2. Using While loop "
   ]
  },
  {
   "cell_type": "code",
   "execution_count": 1,
   "id": "fb5713db",
   "metadata": {},
   "outputs": [
    {
     "name": "stdout",
     "output_type": "stream",
     "text": [
      "Enter Number123\n",
      "321\n"
     ]
    }
   ],
   "source": [
    "# To take input from user\n",
    "A= input(\"Enter Number\")\n",
    "# Converting integer into string and using list backword spaceing\n",
    "print(str(A)[::-1])"
   ]
  },
  {
   "cell_type": "code",
   "execution_count": 8,
   "id": "a23bb591",
   "metadata": {},
   "outputs": [
    {
     "name": "stdout",
     "output_type": "stream",
     "text": [
      "Enter Number123456789\n",
      "Reversed Number: 987654321\n"
     ]
    }
   ],
   "source": [
    "# To take input from user\n",
    "A= int(input(\"Enter Number\"))\n",
    "#Declaring a variable which is storing Reversed Number\n",
    "Reversed_Number = 0\n",
    "#using while loop so that complete number will get reversed\n",
    "while A != 0:\n",
    "    # storing every single digit in Digit\n",
    "    Digit = A % 10\n",
    "    # adding every single digit in Reversed Number\n",
    "    Reversed_Number = Reversed_Number * 10 + Digit\n",
    "    #Removing last digit from the Number\n",
    "    A //= 10\n",
    "#printing the complete Reversed Number by adding every single Digit to it \n",
    "print(\"Reversed Number: \" + str(Reversed_Number))"
   ]
  }
 ],
 "metadata": {
  "kernelspec": {
   "display_name": "Python 3 (ipykernel)",
   "language": "python",
   "name": "python3"
  },
  "language_info": {
   "codemirror_mode": {
    "name": "ipython",
    "version": 3
   },
   "file_extension": ".py",
   "mimetype": "text/x-python",
   "name": "python",
   "nbconvert_exporter": "python",
   "pygments_lexer": "ipython3",
   "version": "3.9.12"
  }
 },
 "nbformat": 4,
 "nbformat_minor": 5
}
